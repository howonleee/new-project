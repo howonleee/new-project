{
  "nbformat": 4,
  "nbformat_minor": 0,
  "metadata": {
    "colab": {
      "provenance": [],
      "collapsed_sections": [],
      "authorship_tag": "ABX9TyP9tppZxq6NKg47C8FYB+Mb",
      "include_colab_link": true
    },
    "kernelspec": {
      "name": "python3",
      "display_name": "Python 3"
    },
    "language_info": {
      "name": "python"
    }
  },
  "cells": [
    {
      "cell_type": "markdown",
      "metadata": {
        "id": "view-in-github",
        "colab_type": "text"
      },
      "source": [
        "<a href=\"https://colab.research.google.com/github/howonleee/new-project/blob/main/untitled2.ipynb\" target=\"_parent\"><img src=\"https://colab.research.google.com/assets/colab-badge.svg\" alt=\"Open In Colab\"/></a>"
      ]
    },
    {
      "cell_type": "code",
      "execution_count": null,
      "metadata": {
        "id": "9HbsbuKC1_hj"
      },
      "outputs": [],
      "source": [
        "a=1\n",
        "b=2"
      ]
    },
    {
      "cell_type": "code",
      "source": [
        "a+b"
      ],
      "metadata": {
        "colab": {
          "base_uri": "https://localhost:8080/"
        },
        "id": "M4OPPsUw2n7u",
        "outputId": "23e2c644-2294-4275-9d61-6e2e604ef261"
      },
      "execution_count": null,
      "outputs": [
        {
          "output_type": "execute_result",
          "data": {
            "text/plain": [
              "4"
            ]
          },
          "metadata": {},
          "execution_count": 3
        }
      ]
    },
    {
      "cell_type": "code",
      "source": [],
      "metadata": {
        "id": "G45yegem2tjG"
      },
      "execution_count": null,
      "outputs": []
    },
    {
      "cell_type": "code",
      "source": [
        "a=2\n",
        "if a>1:\n",
        "  print(\"a is greater tha n 1\")"
      ],
      "metadata": {
        "colab": {
          "base_uri": "https://localhost:8080/"
        },
        "id": "t6FvFArT3KbH",
        "outputId": "76404d20-48e4-4968-cf8d-971abc55a975"
      },
      "execution_count": null,
      "outputs": [
        {
          "output_type": "stream",
          "name": "stdout",
          "text": [
            "a is greater tha n 1\n"
          ]
        }
      ]
    },
    {
      "cell_type": "code",
      "source": [
        "for a in {1,2,3}:\n",
        "  print(a)"
      ],
      "metadata": {
        "colab": {
          "base_uri": "https://localhost:8080/"
        },
        "id": "Q4Df7gvP3moe",
        "outputId": "ad96015e-36c4-4cd7-cf05-1ecc005b6ddb"
      },
      "execution_count": null,
      "outputs": [
        {
          "output_type": "stream",
          "name": "stdout",
          "text": [
            "1\n",
            "2\n",
            "3\n"
          ]
        }
      ]
    },
    {
      "cell_type": "code",
      "source": [
        "i = 0\n",
        "while i <3:\n",
        "  i=i+1\n",
        "  print(i)"
      ],
      "metadata": {
        "colab": {
          "base_uri": "https://localhost:8080/"
        },
        "id": "kKCwD3g_4J6O",
        "outputId": "76af3270-ac85-4bea-a66d-2baabd340f79"
      },
      "execution_count": null,
      "outputs": [
        {
          "output_type": "stream",
          "name": "stdout",
          "text": [
            "1\n",
            "2\n",
            "3\n"
          ]
        }
      ]
    },
    {
      "cell_type": "code",
      "source": [
        "def add(a,b):\n",
        "  return a+b"
      ],
      "metadata": {
        "id": "AfpuKSaR4efO"
      },
      "execution_count": null,
      "outputs": []
    },
    {
      "cell_type": "code",
      "source": [
        "add(3,4)"
      ],
      "metadata": {
        "colab": {
          "base_uri": "https://localhost:8080/"
        },
        "id": "qu1n1Uji4vyP",
        "outputId": "418050e6-8885-4f7d-b385-14c30f38123e"
      },
      "execution_count": null,
      "outputs": [
        {
          "output_type": "execute_result",
          "data": {
            "text/plain": [
              "7"
            ]
          },
          "metadata": {},
          "execution_count": 14
        }
      ]
    },
    {
      "cell_type": "code",
      "source": [
        "money = False\n",
        "if money:\n",
        "  print(\"택시 타\")\n",
        "else:\n",
        "  print(\"걸어가\")"
      ],
      "metadata": {
        "colab": {
          "base_uri": "https://localhost:8080/"
        },
        "id": "nKgu8f4O4xgF",
        "outputId": "9c3f47fe-d2c2-4825-b84f-8f7a721cf61b"
      },
      "execution_count": null,
      "outputs": [
        {
          "output_type": "stream",
          "name": "stdout",
          "text": [
            "걸어가\n"
          ]
        }
      ]
    },
    {
      "cell_type": "code",
      "source": [
        "pocket = [\"paper\", \"cellphone\", \"money\"]\n",
        "if \"money\" in pocket :\n",
        "  print(\"택시 타\")\n",
        "else:\n",
        "  print(\"걸어 가\")"
      ],
      "metadata": {
        "colab": {
          "base_uri": "https://localhost:8080/"
        },
        "id": "9Mksdeun5Q7m",
        "outputId": "16cad9b0-043e-4fc7-9893-12137d90409f"
      },
      "execution_count": null,
      "outputs": [
        {
          "output_type": "stream",
          "name": "stdout",
          "text": [
            "택시 타\n"
          ]
        }
      ]
    },
    {
      "cell_type": "code",
      "source": [
        "test_list = [\"1\", \"2\", \"3\"]\n",
        "for i in test_list:\n",
        "  print(i)"
      ],
      "metadata": {
        "colab": {
          "base_uri": "https://localhost:8080/"
        },
        "id": "SQi1P2zB6aEX",
        "outputId": "fa3cc8c7-f12b-4256-8949-15e3c34eca8f"
      },
      "execution_count": null,
      "outputs": [
        {
          "output_type": "stream",
          "name": "stdout",
          "text": [
            "1\n",
            "2\n",
            "3\n"
          ]
        }
      ]
    },
    {
      "cell_type": "code",
      "source": [
        "marks = [90,25,67,45,80]\n",
        "\n",
        "number=0\n",
        "for mark in marks:\n",
        "  number = number+1\n",
        "  if mark >=60:\n",
        "    print(\"%a번 학생은 합격입니다.\"%number)\n",
        "  else:\n",
        "    print(\"%a번 학생은 불합격입니다.\"%number)"
      ],
      "metadata": {
        "colab": {
          "base_uri": "https://localhost:8080/"
        },
        "id": "9yREpaBE6zQl",
        "outputId": "20511a23-db07-4154-c7dc-91e3a8097551"
      },
      "execution_count": null,
      "outputs": [
        {
          "output_type": "stream",
          "name": "stdout",
          "text": [
            "1번 학생은 합격입니다.\n",
            "2번 학생은 불합격입니다.\n",
            "3번 학생은 합격입니다.\n",
            "4번 학생은 불합격입니다.\n",
            "5번 학생은 합격입니다.\n"
          ]
        }
      ]
    },
    {
      "cell_type": "code",
      "source": [
        "add = 0\n",
        "for i in range(1,11):\n",
        "  add = add + i\n",
        "  print(add)"
      ],
      "metadata": {
        "colab": {
          "base_uri": "https://localhost:8080/"
        },
        "id": "RbZddaCh7jrG",
        "outputId": "9a21d58d-fe45-4b92-cdc4-8769828831b4"
      },
      "execution_count": null,
      "outputs": [
        {
          "output_type": "stream",
          "name": "stdout",
          "text": [
            "1\n",
            "3\n",
            "6\n",
            "10\n",
            "15\n",
            "21\n",
            "28\n",
            "36\n",
            "45\n",
            "55\n"
          ]
        }
      ]
    },
    {
      "cell_type": "code",
      "source": [
        "sum = 0\n",
        "m = [70,60,55,75,95,90,80,80,85,100]\n",
        "for ms in m:\n",
        "  all = sum(ms):\n",
        "  print(all)"
      ],
      "metadata": {
        "colab": {
          "base_uri": "https://localhost:8080/",
          "height": 137
        },
        "id": "q-Gq4gcn8Lp2",
        "outputId": "7e4a70ec-75c8-4ec3-beef-86d4f76f36d8"
      },
      "execution_count": null,
      "outputs": [
        {
          "output_type": "error",
          "ename": "SyntaxError",
          "evalue": "ignored",
          "traceback": [
            "\u001b[0;36m  File \u001b[0;32m\"<ipython-input-2-5f4123b58ba3>\"\u001b[0;36m, line \u001b[0;32m4\u001b[0m\n\u001b[0;31m    all = sum(ms):\u001b[0m\n\u001b[0m                 ^\u001b[0m\n\u001b[0;31mSyntaxError\u001b[0m\u001b[0;31m:\u001b[0m invalid syntax\n"
          ]
        }
      ]
    },
    {
      "cell_type": "code",
      "source": [
        "def add(a,b):\n",
        "  return a+b\n",
        "  a=4\n",
        "  b=7\n",
        "print(a)"
      ],
      "metadata": {
        "colab": {
          "base_uri": "https://localhost:8080/"
        },
        "id": "M_hLzGHS846u",
        "outputId": "95caaaa6-b3c6-4489-912f-e34ef1ae9b60"
      },
      "execution_count": null,
      "outputs": [
        {
          "output_type": "stream",
          "name": "stdout",
          "text": [
            "70\n"
          ]
        }
      ]
    },
    {
      "cell_type": "code",
      "source": [
        "def is_odd(x):\n",
        "  if x%2 == 1 :\n",
        "    print(\"홀수\")\n",
        "  else:\n",
        "    print(\"짝수\")\n",
        "is_odd(5)"
      ],
      "metadata": {
        "colab": {
          "base_uri": "https://localhost:8080/"
        },
        "id": "ZZua-USuAe2-",
        "outputId": "afa43985-9a77-45ce-99d9-743845c2e18c"
      },
      "execution_count": null,
      "outputs": [
        {
          "output_type": "stream",
          "name": "stdout",
          "text": [
            "홀수\n"
          ]
        }
      ]
    },
    {
      "cell_type": "code",
      "source": [],
      "metadata": {
        "id": "kylaXCARBfx2"
      },
      "execution_count": null,
      "outputs": []
    }
  ]
}